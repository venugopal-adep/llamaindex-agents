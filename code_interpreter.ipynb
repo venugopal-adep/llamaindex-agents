{
 "cells": [
  {
   "cell_type": "markdown",
   "id": "df21948f",
   "metadata": {},
   "source": [
    "# Building an AI Data Analysis Assistant with LlamaIndex and OpenAI\n",
    "\n",
    "Data analysis is a crucial skill in today's data-driven world, but not everyone has the technical expertise to write Python code for analyzing datasets. What if we could create an AI assistant that can write and execute code based on natural language requests? In this article, we'll explore how to build such an assistant using [LlamaIndex](https://www.llamaindex.ai/)'s code interpreter tool and OpenAI's powerful language models.\n",
    "\n",
    "## Setting Up the Environment\n",
    "\n",
    "Let's start by installing the necessary packages. We'll need LlamaIndex for its agent framework, OpenAI for the language model, and the code interpreter tool from LlamaIndex."
   ]
  },
  {
   "cell_type": "markdown",
   "id": "cd66e870",
   "metadata": {},
   "source": [
    "After installing the required packages, we'll import them and set up our OpenAI API key."
   ]
  },
  {
   "cell_type": "code",
   "execution_count": 1,
   "id": "0c9a3439",
   "metadata": {},
   "outputs": [],
   "source": [
    "import openai\n",
    "import os\n",
    "from dotenv import load_dotenv\n",
    "load_dotenv(override=True)\n",
    "openai.api_key = os.getenv(\"OPENAI_API_KEY\")\n",
    "from llama_index.agent.openai import OpenAIAgent\n",
    "from llama_index.tools.code_interpreter.base import CodeInterpreterToolSpec"
   ]
  },
  {
   "cell_type": "markdown",
   "id": "0e55b8ef",
   "metadata": {},
   "source": [
    "## Creating the Code Interpreter Agent\n",
    "\n",
    "Now, let's create our code interpreter agent. The `CodeInterpreterToolSpec` is a tool specification in LlamaIndex that allows an agent to write and execute Python code. We'll initialize this spec and create an OpenAI agent with it."
   ]
  },
  {
   "cell_type": "code",
   "execution_count": 2,
   "id": "8540b78a",
   "metadata": {},
   "outputs": [],
   "source": [
    "# Import and initialize our tool spec\n",
    "code_spec = CodeInterpreterToolSpec()\n",
    "\n",
    "tools = code_spec.to_tool_list()\n",
    "# Create the Agent with our tools\n",
    "agent = OpenAIAgent.from_tools(tools, verbose=True)"
   ]
  },
  {
   "cell_type": "markdown",
   "id": "e2fc7f44",
   "metadata": {},
   "source": [
    "The `verbose=True` parameter ensures that we can see the agent's thought process as it works on our problems.\n",
    "\n",
    "## Testing Our Agent\n",
    "\n",
    "Let's test our agent by asking it to help us write some Python code to pass to the code interpreter tool."
   ]
  },
  {
   "cell_type": "code",
   "execution_count": 3,
   "id": "928287a5",
   "metadata": {},
   "outputs": [
    {
     "name": "stdout",
     "output_type": "stream",
     "text": [
      "Added user message to memory: Can you help me write some python code to pass to the code_interpreter tool\n",
      "Of course! What specific task or problem would you like the Python code to solve or address?\n"
     ]
    }
   ],
   "source": [
    "print(\n",
    "    agent.chat(\n",
    "        \"Can you help me write some python code to pass to the code_interpreter tool\"\n",
    "    )\n",
    ")"
   ]
  },
  {
   "cell_type": "markdown",
   "id": "d61df9e0",
   "metadata": {},
   "source": [
    "This initial interaction helps \"prime\" the agent, making it aware that we're interested in using it for code interpretation.\n",
    "\n",
    "## Data Analysis with Natural Language\n",
    "\n",
    "Now, let's put our agent to work on a real data analysis task. We have a dataset called \"world_happiness_2016.csv\" in a data directory. First, let's ask our agent to tell us what columns the dataset contains."
   ]
  },
  {
   "cell_type": "code",
   "execution_count": 4,
   "id": "029f18a7",
   "metadata": {},
   "outputs": [
    {
     "name": "stdout",
     "output_type": "stream",
     "text": [
      "Added user message to memory: There is a world_happiness_2016.csv file in the `data` directory (relative path).\n",
      "                 Can you write and execute code to tell me columns does it have?\n",
      "=== Calling Function ===\n",
      "Calling function: code_interpreter with args: {\"code\":\"import pandas as pd\\n\\n# Load the dataset\\ndata = pd.read_csv('data/world_happiness_2016.csv')\\n\\n# Get the columns of the dataset\\ncolumns = data.columns\\n\\n# Print the columns\\nprint(columns)\"}\n",
      "Got output: StdOut:\n",
      "b\"Index(['Country', 'Region', 'Happiness Rank', 'Happiness Score',\\n       'Lower Confidence Interval', 'Upper Confidence Interval',\\n       'Economy (GDP per Capita)', 'Family', 'Health (Life Expectancy)',\\n       'Freedom', 'Trust (Government Corruption)', 'Generosity',\\n       'Dystopia Residual'],\\n      dtype='object')\\n\"\n",
      "StdErr:\n",
      "b''\n",
      "========================\n",
      "\n",
      "The `world_happiness_2016.csv` file has the following columns:\n",
      "- Country\n",
      "- Region\n",
      "- Happiness Rank\n",
      "- Happiness Score\n",
      "- Lower Confidence Interval\n",
      "- Upper Confidence Interval\n",
      "- Economy (GDP per Capita)\n",
      "- Family\n",
      "- Health (Life Expectancy)\n",
      "- Freedom\n",
      "- Trust (Government Corruption)\n",
      "- Generosity\n",
      "- Dystopia Residual\n",
      "\n",
      "If you need any further assistance or have any other questions, feel free to ask!\n"
     ]
    }
   ],
   "source": [
    "print(\n",
    "    agent.chat(\n",
    "        \"\"\"There is a world_happiness_2016.csv file in the `data` directory (relative path).\n",
    "                 Can you write and execute code to tell me columns does it have?\"\"\"\n",
    "    )\n",
    ")"
   ]
  },
  {
   "cell_type": "markdown",
   "id": "466182e4",
   "metadata": {},
   "source": [
    "The agent will write and execute Python code to read the CSV file using pandas, then display the column names. This is a simple example of how the agent can help with exploratory data analysis.\n",
    "\n",
    "## Analyzing the Top 10 Happiest Countries\n",
    "\n",
    "Next, let's ask our agent to analyze the data and tell us the top 10 happiest countries.\n"
   ]
  },
  {
   "cell_type": "code",
   "execution_count": 5,
   "id": "55867460",
   "metadata": {},
   "outputs": [
    {
     "name": "stdout",
     "output_type": "stream",
     "text": [
      "Added user message to memory: What are the top 10 happiest countries\n",
      "=== Calling Function ===\n",
      "Calling function: code_interpreter with args: {\"code\":\"# Sort the data by 'Happiness Score' in descending order and get the top 10 happiest countries\\ntop_10_happiest_countries = data.sort_values(by='Happiness Score', ascending=False).head(10)\\n\\n# Print the top 10 happiest countries\\nprint(top_10_happiest_countries[['Country', 'Happiness Score']])\"}\n",
      "Got output: StdOut:\n",
      "b''\n",
      "StdErr:\n",
      "b'Traceback (most recent call last):\\n  File \"<string>\", line 2, in <module>\\nNameError: name \\'data\\' is not defined\\n'\n",
      "========================\n",
      "\n",
      "=== Calling Function ===\n",
      "Calling function: code_interpreter with args: {\"code\":\"import pandas as pd\\n\\n# Load the dataset\\ndata = pd.read_csv('data/world_happiness_2016.csv')\\n\\n# Get the top 10 happiest countries\\ntop_10_happiest_countries = data.sort_values(by='Happiness Score', ascending=False).head(10)\\n\\n# Print the top 10 happiest countries\\nprint(top_10_happiest_countries[['Country', 'Happiness Score']])\"}\n",
      "Got output: StdOut:\n",
      "b'       Country  Happiness Score\\n0      Denmark            7.526\\n1  Switzerland            7.509\\n2      Iceland            7.501\\n3       Norway            7.498\\n4      Finland            7.413\\n5       Canada            7.404\\n6  Netherlands            7.339\\n7  New Zealand            7.334\\n8    Australia            7.313\\n9       Sweden            7.291\\n'\n",
      "StdErr:\n",
      "b''\n",
      "========================\n",
      "\n",
      "The top 10 happiest countries based on the Happiness Score in the `world_happiness_2016.csv` file are:\n",
      "1. Denmark - Happiness Score: 7.526\n",
      "2. Switzerland - Happiness Score: 7.509\n",
      "3. Iceland - Happiness Score: 7.501\n",
      "4. Norway - Happiness Score: 7.498\n",
      "5. Finland - Happiness Score: 7.413\n",
      "6. Canada - Happiness Score: 7.404\n",
      "7. Netherlands - Happiness Score: 7.339\n",
      "8. New Zealand - Happiness Score: 7.334\n",
      "9. Australia - Happiness Score: 7.313\n",
      "10. Sweden - Happiness Score: 7.291\n",
      "\n",
      "If you have any more questions or need further assistance, feel free to ask!\n"
     ]
    }
   ],
   "source": [
    "print(agent.chat(\"What are the top 10 happiest countries\"))"
   ]
  },
  {
   "cell_type": "markdown",
   "id": "6ef6fded",
   "metadata": {},
   "source": [
    "The agent will write code to sort the dataset by happiness score and show us the top 10 countries. No need for us to remember how to filter and sort pandas DataFrames!\n",
    "\n",
    "## Visualizing the Data\n",
    "\n",
    "Data is often easier to understand through visualizations. Let's ask our agent to create a graph of the top 10 happiest countries."
   ]
  },
  {
   "cell_type": "code",
   "execution_count": 6,
   "id": "3796a86f",
   "metadata": {},
   "outputs": [
    {
     "name": "stdout",
     "output_type": "stream",
     "text": [
      "Added user message to memory: Can you make a graph of the top 10 happiest countries\n",
      "=== Calling Function ===\n",
      "Calling function: code_interpreter with args: {\"code\":\"import matplotlib.pyplot as plt\\n\\n# Define the data for the top 10 happiest countries\\ncountries = top_10_happiest_countries['Country']\\nhappiness_scores = top_10_happiest_countries['Happiness Score']\\n\\n# Create a bar graph\\nplt.figure(figsize=(12, 6))\\nplt.bar(countries, happiness_scores, color='skyblue')\\nplt.xlabel('Country')\\nplt.ylabel('Happiness Score')\\nplt.title('Top 10 Happiest Countries')\\nplt.xticks(rotation=45)\\nplt.tight_layout()\\nplt.show()\"}\n",
      "Got output: StdOut:\n",
      "b''\n",
      "StdErr:\n",
      "b'Traceback (most recent call last):\\n  File \"<string>\", line 4, in <module>\\nNameError: name \\'top_10_happiest_countries\\' is not defined\\n'\n",
      "========================\n",
      "\n",
      "=== Calling Function ===\n",
      "Calling function: code_interpreter with args: {\"code\":\"import pandas as pd\\nimport matplotlib.pyplot as plt\\n\\n# Load the dataset\\ndata = pd.read_csv('data/world_happiness_2016.csv')\\n\\n# Get the top 10 happiest countries\\ntop_10_happiest_countries = data.sort_values(by='Happiness Score', ascending=False).head(10)\\n\\n# Define the data for the top 10 happiest countries\\ncountries = top_10_happiest_countries['Country']\\nhappiness_scores = top_10_happiest_countries['Happiness Score']\\n\\n# Create a bar graph\\nplt.figure(figsize=(12, 6))\\nplt.bar(countries, happiness_scores, color='skyblue')\\nplt.xlabel('Country')\\nplt.ylabel('Happiness Score')\\nplt.title('Top 10 Happiest Countries')\\nplt.xticks(rotation=45)\\nplt.tight_layout()\\nplt.show()\"}\n",
      "Got output: StdOut:\n",
      "b'Figure(1200x600)\\n'\n",
      "StdErr:\n",
      "b''\n",
      "========================\n",
      "\n",
      "Here is the bar graph showing the Happiness Scores of the top 10 happiest countries. Each bar represents the Happiness Score of a country.\n",
      "\n",
      "If you have any more questions or need further assistance, feel free to ask!\n"
     ]
    }
   ],
   "source": [
    "print(agent.chat(\"Can you make a graph of the top 10 happiest countries\"))"
   ]
  },
  {
   "cell_type": "markdown",
   "id": "99c922fd",
   "metadata": {},
   "source": [
    "\n",
    "The agent will generate code to create a bar chart or similar visualization. However, since this is in a Jupyter notebook, we might not be able to see the plot immediately. Let's ask the agent to save it locally."
   ]
  },
  {
   "cell_type": "code",
   "execution_count": 7,
   "id": "f9367f50",
   "metadata": {},
   "outputs": [
    {
     "name": "stdout",
     "output_type": "stream",
     "text": [
      "Added user message to memory: I cant see the plot - can you save it locally with file name `output.png`?\n",
      "=== Calling Function ===\n",
      "Calling function: code_interpreter with args: {\"code\":\"import pandas as pd\\nimport matplotlib.pyplot as plt\\n\\n# Load the dataset\\ndata = pd.read_csv('data/world_happiness_2016.csv')\\n\\n# Get the top 10 happiest countries\\ntop_10_happiest_countries = data.sort_values(by='Happiness Score', ascending=False).head(10)\\n\\n# Define the data for the top 10 happiest countries\\ncountries = top_10_happiest_countries['Country']\\nhappiness_scores = top_10_happiest_countries['Happiness Score']\\n\\n# Create a bar graph\\nplt.figure(figsize=(12, 6))\\nplt.bar(countries, happiness_scores, color='skyblue')\\nplt.xlabel('Country')\\nplt.ylabel('Happiness Score')\\nplt.title('Top 10 Happiest Countries')\\nplt.xticks(rotation=45)\\nplt.tight_layout()\\nplt.savefig('output.png')\"}\n",
      "Got output: StdOut:\n",
      "b''\n",
      "StdErr:\n",
      "b''\n",
      "========================\n",
      "\n",
      "The plot has been saved locally as `output.png`. You can download it using the following link: [Download output.png](sandbox:/output.png)\n",
      "\n",
      "If you need any further assistance or have any other requests, feel free to let me know!\n"
     ]
    }
   ],
   "source": [
    "print(\n",
    "    agent.chat(\n",
    "        \"I cant see the plot - can you save it locally with file name `output.png`?\"\n",
    "    )\n",
    ")"
   ]
  },
  {
   "cell_type": "markdown",
   "id": "599143d8",
   "metadata": {},
   "source": [
    "\n",
    "The agent will modify its code to save the plot as an image file that we can view later.\n",
    "## Comparing the Happiest and Least Happy Countries\n",
    "\n",
    "For a more comprehensive analysis, let's also look at the 10 least happy countries."
   ]
  },
  {
   "cell_type": "code",
   "execution_count": 8,
   "id": "ebe541c7",
   "metadata": {},
   "outputs": [
    {
     "name": "stdout",
     "output_type": "stream",
     "text": [
      "Added user message to memory: can you also plot the 10 lowest\n",
      "=== Calling Function ===\n",
      "Calling function: code_interpreter with args: {\"code\":\"import pandas as pd\\nimport matplotlib.pyplot as plt\\n\\n# Load the dataset\\ndata = pd.read_csv('data/world_happiness_2016.csv')\\n\\n# Get the 10 lowest happiest countries\\ntop_10_lowest_countries = data.sort_values(by='Happiness Score', ascending=True).head(10)\\n\\n# Define the data for the 10 lowest happiest countries\\ncountries_lowest = top_10_lowest_countries['Country']\\nhappiness_scores_lowest = top_10_lowest_countries['Happiness Score']\\n\\n# Create a bar graph for the 10 lowest happiest countries\\nplt.figure(figsize=(12, 6))\\nplt.bar(countries_lowest, happiness_scores_lowest, color='salmon')\\nplt.xlabel('Country')\\nplt.ylabel('Happiness Score')\\nplt.title('Top 10 Lowest Happiest Countries')\\nplt.xticks(rotation=45)\\nplt.tight_layout()\\nplt.savefig('output_lowest.png')\"}\n",
      "Got output: StdOut:\n",
      "b''\n",
      "StdErr:\n",
      "b''\n",
      "========================\n",
      "\n",
      "The plot for the 10 lowest happiest countries has been saved locally as `output_lowest.png`. You can download it using the following link: [Download output_lowest.png](sandbox:/output_lowest.png)\n",
      "\n",
      "If you have any more questions or need further assistance, feel free to ask!\n"
     ]
    }
   ],
   "source": [
    "print(agent.chat(\"can you also plot the 10 lowest\"))"
   ]
  },
  {
   "cell_type": "markdown",
   "id": "08596fe7",
   "metadata": {},
   "source": [
    "Finally, let's ask the agent to create a single visualization that shows both the happiest and least happy countries for comparison."
   ]
  },
  {
   "cell_type": "code",
   "execution_count": null,
   "id": "016701fc",
   "metadata": {},
   "outputs": [
    {
     "name": "stdout",
     "output_type": "stream",
     "text": [
      "Added user message to memory: can you do it in one plot\n"
     ]
    }
   ],
   "source": [
    "agent.chat(\"can you do it in one plot\")"
   ]
  },
  {
   "cell_type": "markdown",
   "id": "7ed70be9",
   "metadata": {},
   "source": [
    "## Benefits of Using a Code Interpreter Agent\n",
    "\n",
    "Using a code interpreter agent like this offers several advantages:\n",
    "\n",
    "1. **Accessibility**: People without programming skills can perform data analysis.\n",
    "2. **Efficiency**: Even for experienced programmers, describing what you want in natural language can be faster than writing code.\n",
    "3. **Learning**: The generated code can serve as a learning resource for those interested in improving their coding skills.\n",
    "4. **Flexibility**: The agent can adapt to different datasets and analysis requirements without needing to rewrite code.\n",
    "\n",
    "## Limitations and Considerations\n",
    "\n",
    "While this approach is powerful, there are some limitations to keep in mind:\n",
    "\n",
    "1. **Security**: The code interpreter executes Python code, which could potentially be risky if not properly sandboxed.\n",
    "2. **Complexity**: For very complex analyses, the agent might not generate the most efficient or accurate code.\n",
    "3. **Interpretability**: The generated code might be harder to interpret or debug than code you would write yourself.\n",
    "\n",
    "## Conclusion\n",
    "\n",
    "In this article, we've seen how to combine LlamaIndex's code interpreter tool with OpenAI's language models to create an AI assistant that can perform data analysis tasks. This approach democratizes data analysis by allowing anyone to ask questions about data in natural language and get insightful answers.\n",
    "\n",
    "This is just the beginning of what's possible with code interpreter agents. You could extend this approach to handle more complex analyses, integrate with other data sources, or create specialized agents for specific domains like financial analysis or scientific research.\n",
    "\n",
    "The future of data analysis might not be about writing code yourself, but rather telling an AI assistant what insights you're looking for and letting it handle the technical details.\n",
    "\n",
    "---\n",
    "\n",
    "By implementing this AI data analysis assistant, you're not just building a cool tool - you're part of a movement that's making data analysis more accessible to everyone. Whether you're a data scientist looking to streamline your workflow or a non-technical user who needs insights from data, code interpreter agents like this one can be valuable allies in your data journey."
   ]
  },
  {
   "cell_type": "markdown",
   "id": "b9bb6f47",
   "metadata": {},
   "source": []
  }
 ],
 "metadata": {
  "kernelspec": {
   "display_name": "base",
   "language": "python",
   "name": "python3"
  },
  "language_info": {
   "codemirror_mode": {
    "name": "ipython",
    "version": 3
   },
   "file_extension": ".py",
   "mimetype": "text/x-python",
   "name": "python",
   "nbconvert_exporter": "python",
   "pygments_lexer": "ipython3",
   "version": "3.12.4"
  }
 },
 "nbformat": 4,
 "nbformat_minor": 5
}
