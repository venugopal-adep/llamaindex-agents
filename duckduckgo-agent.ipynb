{
 "cells": [
  {
   "cell_type": "markdown",
   "id": "5f438951",
   "metadata": {},
   "source": [
    "# Building a Web-Aware AI Assistant with LlamaIndex and OpenAI\n",
    "\n",
    "As an AI developer, I've been exploring ways to create agents that can access real-time information from the web. Today, I want to share a simple yet powerful approach using LlamaIndex and OpenAI.\n",
    "\n",
    "## The Problem with Static Knowledge\n",
    "\n",
    "Most large language models (LLMs) suffer from knowledge cutoffs - they don't know about events that happened after their training. This can be frustrating when you need up-to-date information.\n",
    "\n",
    "## The Solution: Web-Enabled Agents\n",
    "\n",
    "Here's a minimal implementation that connects OpenAI's models to the internet:"
   ]
  },
  {
   "cell_type": "markdown",
   "id": "40aed7be",
   "metadata": {},
   "source": [
    "## Import libraries"
   ]
  },
  {
   "cell_type": "code",
   "execution_count": 3,
   "id": "3b8d8265",
   "metadata": {},
   "outputs": [],
   "source": [
    "from llama_index.tools.duckduckgo import DuckDuckGoSearchToolSpec\n",
    "from llama_index.agent.openai import OpenAIAgent\n",
    "import os\n",
    "from dotenv import load_dotenv"
   ]
  },
  {
   "cell_type": "markdown",
   "id": "aee2c3b3",
   "metadata": {},
   "source": [
    "## Load API key from .env file"
   ]
  },
  {
   "cell_type": "code",
   "execution_count": 4,
   "id": "926551a2",
   "metadata": {},
   "outputs": [
    {
     "data": {
      "text/plain": [
       "True"
      ]
     },
     "execution_count": 4,
     "metadata": {},
     "output_type": "execute_result"
    }
   ],
   "source": [
    "load_dotenv()"
   ]
  },
  {
   "cell_type": "markdown",
   "id": "89ac3d12",
   "metadata": {},
   "source": [
    "## Create a DuckDuckGo search tool"
   ]
  },
  {
   "cell_type": "code",
   "execution_count": 5,
   "id": "23860bc3",
   "metadata": {},
   "outputs": [],
   "source": [
    "tool_spec = DuckDuckGoSearchToolSpec()"
   ]
  },
  {
   "cell_type": "markdown",
   "id": "24559f08",
   "metadata": {},
   "source": [
    "# Initialize an OpenAI agent with the search capability"
   ]
  },
  {
   "cell_type": "code",
   "execution_count": 8,
   "id": "0f89d7f1",
   "metadata": {},
   "outputs": [],
   "source": [
    "agent = OpenAIAgent.from_tools(tool_spec.to_tool_list())"
   ]
  },
  {
   "cell_type": "markdown",
   "id": "862d50c6",
   "metadata": {},
   "source": [
    "# Test with some queries"
   ]
  },
  {
   "cell_type": "code",
   "execution_count": null,
   "id": "f5519c24",
   "metadata": {},
   "outputs": [],
   "source": [
    "response1 = agent.chat(\"Quantum Computing and AI\")\n",
    "print(response1)"
   ]
  },
  {
   "cell_type": "code",
   "execution_count": 12,
   "id": "e12baae3",
   "metadata": {},
   "outputs": [
    {
     "name": "stdout",
     "output_type": "stream",
     "text": [
      "Here are some of the latest developments in machine learning:\n",
      "\n",
      "1. **[8 AI and Machine Learning Trends to Watch in 2025 | TechTarget](https://www.techtarget.com/searchenterpriseai/tip/9-top-AI-and-machine-learning-trends)**:\n",
      "   - Provides insights into AI and machine learning trends to watch out for in 2025.\n",
      "\n",
      "2. **[Latest Developments in Machine Learning: 2024 Update](https://waleed.dev/blog/latest-developments-in-machine-learning-2024-update)**:\n",
      "   - Discusses some of the latest developments in machine learning, including the impact of generative AI models like DALL-E 3, Stable Diffusion, and Google's Imagen.\n",
      "\n",
      "3. **[Machine Learning | MIT News | Massachusetts Institute of Technology](https://news.mit.edu/topic/machine-learning)**:\n",
      "   - MIT News articles related to machine learning, covering advancements and research in the field.\n",
      "\n",
      "4. **[The Future of Machine Learning in 2025 [Top Trends and Predictions]](https://www.geeksforgeeks.org/future-of-machine-learning/)**:\n",
      "   - Explores the future trends and predictions in machine learning, focusing on transformers and large language models.\n",
      "\n",
      "5. **[7 Machine Learning Trends to Watch in 2025](https://machinelearningmastery.com/7-machine-learning-trends-2025/)**:\n",
      "   - Highlights emerging machine learning trends to keep an eye on in 2025, including autonomous agents and other advancements.\n",
      "\n",
      "These resources can provide you with more detailed information on the latest developments and trends in machine learning.\n"
     ]
    }
   ],
   "source": [
    "response2 = agent.chat(\"what are the latest developments in machine learning\")\n",
    "print(response2)"
   ]
  },
  {
   "cell_type": "markdown",
   "id": "993635ca",
   "metadata": {},
   "source": [
    "With just these few lines, I created an agent that can search the web in real-time and respond with current information.\n",
    "\n",
    "## Why This Matters\n",
    "\n",
    "This approach solves several key problems:\n",
    "- Provides access to current events and developments\n",
    "- Reduces hallucinations by grounding responses in search results\n",
    "- Extends the capabilities of base models without complex engineering\n",
    "\n",
    "## Next Steps\n",
    "\n",
    "I'm now exploring more sophisticated tooling combinations, like adding:\n",
    "- Multiple search engines for cross-validation\n",
    "- Specialized tools for different domains (finance, science, etc.)\n",
    "- Memory systems to retain context between sessions\n",
    "\n",
    "The ability to build web-aware assistants with minimal code opens up exciting possibilities for more helpful and accurate AI applications.\n",
    "\n",
    "What web-connected features would you add to your AI assistants?"
   ]
  }
 ],
 "metadata": {
  "kernelspec": {
   "display_name": "base",
   "language": "python",
   "name": "python3"
  },
  "language_info": {
   "codemirror_mode": {
    "name": "ipython",
    "version": 3
   },
   "file_extension": ".py",
   "mimetype": "text/x-python",
   "name": "python",
   "nbconvert_exporter": "python",
   "pygments_lexer": "ipython3",
   "version": "3.12.4"
  }
 },
 "nbformat": 4,
 "nbformat_minor": 5
}
