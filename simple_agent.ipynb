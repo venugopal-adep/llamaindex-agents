{
 "cells": [
  {
   "cell_type": "markdown",
   "id": "4763f539",
   "metadata": {},
   "source": [
    "# Creating a Simple AI Agent with LlamaIndex and OpenAI\n",
    "\n",
    "In this tutorial, I'll guide you through building a basic AI agent using LlamaIndex and OpenAI. This approach lets you create powerful AI assistants that can use custom tools and functions to solve problems.\n",
    "\n",
    "## What We'll Build\n",
    "\n",
    "We'll create a simple calculator agent that can multiply numbers using OpenAI's GPT-4o-mini model and LlamaIndex's FunctionAgent framework. While this example is straightforward, the same pattern can be extended to create sophisticated agents that can:\n",
    "\n",
    "- Search the web\n",
    "- Query databases\n",
    "- Call external APIs\n",
    "- Process documents\n",
    "- And much more\n",
    "\n",
    "## Prerequisites\n",
    "\n",
    "To follow along, you'll need:\n",
    "\n",
    "1. Python installed on your machine\n",
    "2. An OpenAI API key\n",
    "3. Basic understanding of Python and async programming\n",
    "\n",
    "## Setting Up the Environment\n",
    "\n",
    "First, install the required packages:"
   ]
  },
  {
   "cell_type": "code",
   "execution_count": 6,
   "id": "7290f7c6",
   "metadata": {},
   "outputs": [],
   "source": [
    "#pip install llama-index python-dotenv openai -U -qqq"
   ]
  },
  {
   "cell_type": "markdown",
   "id": "0ec8fc58",
   "metadata": {},
   "source": [
    "Create a .env file in your project directory and add your OpenAI API key:\n",
    "\n",
    "OPENAI_API_KEY=your_api_key_here"
   ]
  },
  {
   "cell_type": "markdown",
   "id": "fe392c2e",
   "metadata": {},
   "source": [
    "## The Code\n",
    "\n",
    "Let's break down our AI agent implementation:"
   ]
  },
  {
   "cell_type": "code",
   "execution_count": 7,
   "id": "88ab3a70",
   "metadata": {},
   "outputs": [],
   "source": [
    "import os\n",
    "from dotenv import load_dotenv\n",
    "import asyncio\n",
    "from llama_index.core.agent.workflow import FunctionAgent\n",
    "from llama_index.llms.openai import OpenAI"
   ]
  },
  {
   "cell_type": "markdown",
   "id": "a50d4257",
   "metadata": {},
   "source": [
    "## Load environment variables"
   ]
  },
  {
   "cell_type": "code",
   "execution_count": 8,
   "id": "21ad863a",
   "metadata": {},
   "outputs": [],
   "source": [
    "load_dotenv(override=True)\n",
    "api_key = os.getenv(\"OPENAI_API_KEY\")"
   ]
  },
  {
   "cell_type": "markdown",
   "id": "135d712a",
   "metadata": {},
   "source": [
    "# Define a simple calculator tool"
   ]
  },
  {
   "cell_type": "code",
   "execution_count": 9,
   "id": "55e247b4",
   "metadata": {},
   "outputs": [],
   "source": [
    "def multiply(a: float, b: float) -> float:\n",
    "    \"\"\"Useful for multiplying two numbers.\"\"\"\n",
    "    return a * b"
   ]
  },
  {
   "cell_type": "markdown",
   "id": "88d0ce8c",
   "metadata": {},
   "source": [
    "# Create an agent workflow with our calculator tool"
   ]
  },
  {
   "cell_type": "code",
   "execution_count": 10,
   "id": "bf0922c7",
   "metadata": {},
   "outputs": [],
   "source": [
    "agent = FunctionAgent(\n",
    "    tools=[multiply],\n",
    "    llm=OpenAI(model=\"gpt-4o-mini\", api_key=api_key),\n",
    "    system_prompt=\"You are a helpful assistant that can multiply two numbers.\"\n",
    ")"
   ]
  },
  {
   "cell_type": "markdown",
   "id": "18d02eb6",
   "metadata": {},
   "source": [
    "## Run the agent"
   ]
  },
  {
   "cell_type": "code",
   "execution_count": 11,
   "id": "32825b39",
   "metadata": {},
   "outputs": [
    {
     "name": "stdout",
     "output_type": "stream",
     "text": [
      "The result of \\( 1234 \\times 4567 \\) is 5,635,678.\n"
     ]
    }
   ],
   "source": [
    "async def main():\n",
    "    # Run the agent\n",
    "    response = await agent.run(\"What is 1234 * 4567?\")\n",
    "    print(str(response))\n",
    "\n",
    "# Execute the main function\n",
    "response = await main()"
   ]
  },
  {
   "cell_type": "markdown",
   "id": "59f60f45",
   "metadata": {},
   "source": [
    "## How It Works\n",
    "\n",
    "1. **Environment Setup**: We load the OpenAI API key from our .env file.\n",
    "\n",
    "2. **Tool Definition**: We create a simple `multiply` function that our agent can use. The docstring is important as it helps the LLM understand what the function does.\n",
    "\n",
    "3. **Agent Creation**: We initialize a `FunctionAgent` with:\n",
    "   - Our multiply tool\n",
    "   - The OpenAI LLM (using the cost-effective gpt-4o-mini model)\n",
    "   - A system prompt defining the agent's role\n",
    "\n",
    "4. **Agent Execution**: We run the agent with a question asking it to multiply two numbers.\n",
    "\n",
    "## Behind the Scenes\n",
    "\n",
    "When you ask the agent \"What is 1234 * 4567?\", here's what happens:\n",
    "\n",
    "1. The question is sent to the OpenAI model along with the tool definition\n",
    "2. The model recognizes this is a multiplication problem\n",
    "3. It decides to call the `multiply` function with the appropriate arguments\n",
    "4. The function executes and returns the result (5,635,678)\n",
    "5. The model formulates a human-friendly response with the answer\n",
    "\n",
    "## Extending Your Agent\n",
    "\n",
    "This simple example can be extended in numerous ways:\n",
    "\n",
    "- Add more mathematical functions (addition, division, etc.)\n",
    "- Integrate with external APIs for real-time data\n",
    "- Add memory to maintain conversation context\n",
    "- Implement a feedback loop for continuous improvement\n",
    "\n",
    "## Conclusion\n",
    "\n",
    "Building AI agents with LlamaIndex and OpenAI provides a powerful way to create AI assistants that can perform specific tasks. By defining custom tools and connecting them to large language models, you can create agents that solve complex problems in a conversational way.\n",
    "\n",
    "The pattern shown here—defining tools, creating an agent, and running queries—forms the foundation of more complex agent architectures that can handle sophisticated workflows and real-world applications.\n",
    "\n",
    "What will you build with your AI agent?"
   ]
  }
 ],
 "metadata": {
  "kernelspec": {
   "display_name": "base",
   "language": "python",
   "name": "python3"
  },
  "language_info": {
   "codemirror_mode": {
    "name": "ipython",
    "version": 3
   },
   "file_extension": ".py",
   "mimetype": "text/x-python",
   "name": "python",
   "nbconvert_exporter": "python",
   "pygments_lexer": "ipython3",
   "version": "3.12.4"
  }
 },
 "nbformat": 4,
 "nbformat_minor": 5
}
