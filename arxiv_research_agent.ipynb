{
 "cells": [
  {
   "cell_type": "markdown",
   "id": "09b9879c",
   "metadata": {},
   "source": [
    "# Building an AI Research Assistant with OpenAI and LlamaIndex\n",
    "\n",
    "Recently, I've been exploring how to leverage AI to help with my research efforts. In this article, I'll show you how I built a simple yet powerful AI research assistant that can search and summarize scientific papers from arXiv.\n",
    "\n",
    "## The Problem I Wanted to Solve\n",
    "\n",
    "As someone who tries to stay current with scientific research, I often find myself overwhelmed by the volume of papers published daily. I wanted a tool that could:\n",
    "1. Search for relevant papers on a topic\n",
    "2. Summarize the key findings\n",
    "3. Answer my specific questions about a research area\n",
    "\n",
    "## My Solution: An AI Research Agent\n",
    "\n",
    "I created a simple but effective tool using OpenAI's language models and LlamaIndex's tooling capabilities. Here's how it works:\n",
    "\n",
    "\n",
    "\n"
   ]
  },
  {
   "cell_type": "markdown",
   "id": "8324486a",
   "metadata": {},
   "source": [
    "## Import necessary libraries"
   ]
  },
  {
   "cell_type": "code",
   "execution_count": 1,
   "id": "5daab776",
   "metadata": {},
   "outputs": [],
   "source": [
    "import openai\n",
    "from dotenv import load_dotenv\n",
    "from llama_index.agent.openai import OpenAIAgent\n",
    "from llama_index.tools.arxiv.base import ArxivToolSpec\n",
    "from llama_index.llms.openai import OpenAI\n",
    "import os"
   ]
  },
  {
   "cell_type": "markdown",
   "id": "75533f32",
   "metadata": {},
   "source": [
    "## Setup"
   ]
  },
  {
   "cell_type": "code",
   "execution_count": 2,
   "id": "d859f2e3",
   "metadata": {},
   "outputs": [],
   "source": [
    "load_dotenv(override=True)  \n",
    "openai.api_key = os.getenv(\"OPENAI_API_KEY\")"
   ]
  },
  {
   "cell_type": "markdown",
   "id": "0ba6ba24",
   "metadata": {},
   "source": [
    "## Configure LLM"
   ]
  },
  {
   "cell_type": "code",
   "execution_count": 3,
   "id": "3a9dd4ac",
   "metadata": {},
   "outputs": [],
   "source": [
    "llm = OpenAI(model=\"gpt-4o-mini\")"
   ]
  },
  {
   "cell_type": "markdown",
   "id": "fd7e68f5",
   "metadata": {},
   "source": [
    "## Create arXiv tool"
   ]
  },
  {
   "cell_type": "code",
   "execution_count": 4,
   "id": "1a821008",
   "metadata": {},
   "outputs": [],
   "source": [
    "arxiv_tool = ArxivToolSpec()"
   ]
  },
  {
   "cell_type": "markdown",
   "id": "d67c6c25",
   "metadata": {},
   "source": [
    "## Build agent"
   ]
  },
  {
   "cell_type": "code",
   "execution_count": 5,
   "id": "e3907363",
   "metadata": {},
   "outputs": [],
   "source": [
    "agent = OpenAIAgent.from_tools(\n",
    "    arxiv_tool.to_tool_list(),\n",
    "    llm=llm,\n",
    "    verbose=True,\n",
    ")"
   ]
  },
  {
   "cell_type": "markdown",
   "id": "c15aee9a",
   "metadata": {},
   "source": [
    "## Ask a research question"
   ]
  },
  {
   "cell_type": "code",
   "execution_count": 6,
   "id": "22187418",
   "metadata": {},
   "outputs": [
    {
     "name": "stdout",
     "output_type": "stream",
     "text": [
      "Added user message to memory: Whats going on with the superconductor lk-99\n",
      "=== Calling Function ===\n",
      "Calling function: arxiv_query with args: {\"query\":\"lk-99 superconductor\",\"sort_by\":\"recent\"}\n",
      "Got output: [Document(id_='9280e9e3-e80e-4ec6-a683-8606477a27fd', embedding=None, metadata={}, excluded_embed_metadata_keys=[], excluded_llm_metadata_keys=[], relationships={}, metadata_template='{key}: {value}', metadata_separator='\\n', text_resource=MediaResource(embeddings=None, data=None, text='http://arxiv.org/pdf/2504.16885v1: High Field Magnet Programme -- European Strategy Input\\nIn this submission, we describe research goals, implementation, and timelines\\nof the High Field Magnet Programme, hosted by CERN. The programme pursues\\naccelerator-magnet R&D with low-temperature- and high-temperature\\nsuperconductor technology with a main focus on the FCC-hh. Following a long\\ntradition of magnet R&D for high-energy particle colliders, HFM R&D fosters\\nimportant societal impact through synergies with other fields.', path=None, url=None, mimetype=None), image_resource=None, audio_resource=None, video_resource=None, text_template='{metadata_str}\\n\\n{content}'), Document(id_='955beb86-3bad-43d0-9abf-cf8873761233', embedding=None, metadata={}, excluded_embed_metadata_keys=[], excluded_llm_metadata_keys=[], relationships={}, metadata_template='{key}: {value}', metadata_separator='\\n', text_resource=MediaResource(embeddings=None, data=None, text='http://arxiv.org/pdf/2504.16841v1: Braiding of Majorana Zero Modes in Vortex Cores\\nWe demonstrate the successful simulation of $\\\\sqrt{Z}$-, $\\\\sqrt{X}$- and\\n$X$-quantum gates using Majorana zero modes (MZMs) that emerge in magnetic\\nvortices located in topological superconductors. We compute the transition\\nprobabilities and geometric phase differences accounting for the full many-body\\ndynamics and show that qubit states can be read out by fusing the vortex core\\nMZMs and measuring the resulting charge density. We visualize the gate\\nprocesses using the time- and energy-dependent non-equilibrium local density of\\nstates. Our results demonstrate the feasibility of employing vortex core MZMs\\nfor the realization of fault-tolerant topological quantum computing.', path=None, url=None, mimetype=None), image_resource=None, audio_resource=None, video_resource=None, text_template='{metadata_str}\\n\\n{content}'), Document(id_='70c5ff4a-2f85-4405-a970-aa67d42c28d0', embedding=None, metadata={}, excluded_embed_metadata_keys=[], excluded_llm_metadata_keys=[], relationships={}, metadata_template='{key}: {value}', metadata_separator='\\n', text_resource=MediaResource(embeddings=None, data=None, text=\"http://arxiv.org/pdf/2504.16620v1: Fluctuated lattice-driven charge density wave far above the condensation temperature in kagome superconductor KV3Sb5\\nThe kagome material AV$_3$Sb$_5$ exhibits multiple exotic orders, including\\nan unconventional charge density wave (CDW). Elucidating the underlying\\nmechanism behind the CDW transition is crucial for unraveling the complex\\ninteractions among these phases. However, the driving force of the CDW remains\\na topic of debate due to the intertwined interactions among the system's\\nvarious excitations. Here we investigated the CDW transition in KV$_3$Sb$_5$ by\\nisolating the ultrafast electronic phase transition using time- and\\nangleresolved photoemission spectroscopy. An ultrafast electronic phase\\ntransition was observed at a critical photoexcitation fluence, Fc, without\\nreduction in CDW lattice-distortion-induced band folding. This folded band\\npersisted up to 150 K under equilibrium heating, well above the CDW\\ncondensation temperature of Tc = 78 K. Notably, the pump-induced band shifts at\\nFc were comparable to those caused by thermal effects at Tc. These findings\\nsuggest that in KV$_3$Sb$_5$, a fluctuating lattice-driven in-plane CDW emerges\\nabove 150 K, with out-of-plane electronic correlations leading to the $2\\\\times2\\n\\\\times 2$ CDW near Tc, offering key insights into the interplay between the\\nelectronic and structural dynamics in AV$_3$Sb$_5$.\", path=None, url=None, mimetype=None), image_resource=None, audio_resource=None, video_resource=None, text_template='{metadata_str}\\n\\n{content}')]\n",
      "========================\n",
      "\n",
      "Recent research on the superconductor LK-99 has not yielded specific papers directly addressing it in the latest arXiv submissions. However, here are some related topics in the field of superconductors that have been discussed:\n",
      "\n",
      "1. **High Field Magnet Programme**: A paper discusses the goals and implementation of a High Field Magnet Programme hosted by CERN, focusing on both low-temperature and high-temperature superconductor technology. This research aims to foster advancements in accelerator-magnet R&D, which could have implications for high-energy particle colliders.\n",
      "\n",
      "   [Read more here](http://arxiv.org/pdf/2504.16885v1)\n",
      "\n",
      "2. **Majorana Zero Modes in Topological Superconductors**: Another paper explores the simulation of quantum gates using Majorana zero modes that emerge in magnetic vortices located in topological superconductors. This research is significant for the development of fault-tolerant topological quantum computing.\n",
      "\n",
      "   [Read more here](http://arxiv.org/pdf/2504.16841v1)\n",
      "\n",
      "3. **Charge Density Wave in Kagome Superconductor KV3Sb5**: A study investigates the charge density wave transition in the kagome material KV3Sb5, revealing insights into the complex interactions among various phases in superconductors.\n",
      "\n",
      "   [Read more here](http://arxiv.org/pdf/2504.16620v1)\n",
      "\n",
      "If you are looking for specific updates or findings regarding LK-99, it may be beneficial to monitor ongoing research and publications in the field, as the situation can evolve rapidly.\n"
     ]
    }
   ],
   "source": [
    "print(agent.chat(\"Whats going on with the superconductor lk-99\"))"
   ]
  },
  {
   "cell_type": "markdown",
   "id": "1c1ebdb2",
   "metadata": {},
   "source": [
    "With this code, I've created an agent that can:\n",
    "- Connect to the arXiv database of scientific papers\n",
    "- Use GPT-4o-mini (a smaller, efficient version of OpenAI's GPT-4)\n",
    "- Search for relevant papers on any topic I ask about\n",
    "- Generate a coherent summary of the findings\n",
    "\n",
    "## Real-World Example\n",
    "\n",
    "I was curious about LK-99, a material that created buzz in the scientific community as a potential room-temperature superconductor. Instead of spending hours reading dozens of papers, I simply asked my agent: \"What's going on with the superconductor LK-99?\"\n",
    "\n",
    "The agent then:\n",
    "1. Searched arXiv for relevant papers\n",
    "2. Read and analyzed the key findings\n",
    "3. Provided me with a comprehensive summary of the current state of LK-99 research\n",
    "\n",
    "## Why This Matters\n",
    "\n",
    "This simple integration showcases how AI can transform research workflows. What used to take hours of manual searching and reading can now be accomplished in minutes.\n",
    "\n",
    "The best part is that this approach is extensible - in my notebook, I've also created similar agents for Wikipedia searches, and you could easily add tools for other data sources.\n",
    "\n",
    "Building this has changed how I approach staying up-to-date with scientific research, and I hope it helps you too!"
   ]
  }
 ],
 "metadata": {
  "kernelspec": {
   "display_name": "base",
   "language": "python",
   "name": "python3"
  },
  "language_info": {
   "codemirror_mode": {
    "name": "ipython",
    "version": 3
   },
   "file_extension": ".py",
   "mimetype": "text/x-python",
   "name": "python",
   "nbconvert_exporter": "python",
   "pygments_lexer": "ipython3",
   "version": "3.12.4"
  }
 },
 "nbformat": 4,
 "nbformat_minor": 5
}
